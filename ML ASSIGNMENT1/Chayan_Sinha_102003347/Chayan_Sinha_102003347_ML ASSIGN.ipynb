{
 "cells": [
  {
   "cell_type": "code",
   "execution_count": null,
   "id": "be21f447",
   "metadata": {},
   "outputs": [
    {
     "name": "stdout",
     "output_type": "stream",
     "text": [
      "[5 4 6 3 2 1]\n"
     ]
    }
   ],
   "source": [
    "#Q1 a)\n",
    "import numpy as np\n",
    "arr = np.array([1,2,3,6,4,5])\n",
    "result = arr[::-1]\n",
    "print(str(result))"
   ]
  },
  {
   "cell_type": "code",
   "execution_count": null,
   "id": "40612c9f",
   "metadata": {},
   "outputs": [
    {
     "data": {
      "text/plain": [
       "array([1, 2, 3, 2, 4, 5, 1, 2, 3])"
      ]
     },
     "execution_count": 2,
     "metadata": {},
     "output_type": "execute_result"
    }
   ],
   "source": [
    "#Q1 b)\n",
    "import numpy as np\n",
    "array1 = np.array([[1, 2, 3], [2, 4, 5], [1, 2, 3]])\n",
    "array1.flatten()\n",
    "array1.ravel()"
   ]
  },
  {
   "cell_type": "code",
   "execution_count": null,
   "id": "4276458c",
   "metadata": {},
   "outputs": [
    {
     "data": {
      "text/plain": [
       "True"
      ]
     },
     "execution_count": 3,
     "metadata": {},
     "output_type": "execute_result"
    }
   ],
   "source": [
    "#Q1 c)\n",
    "import numpy as np\n",
    "arr1 = np.array([[1, 2], [3, 4]])\n",
    "arr2 = np.array([[1, 2], [3, 4]])\n",
    "np.array_equal(arr1,arr2)"
   ]
  },
  {
   "cell_type": "code",
   "execution_count": null,
   "id": "69c4fe13",
   "metadata": {},
   "outputs": [
    {
     "name": "stdout",
     "output_type": "stream",
     "text": [
      "1\n",
      "1   0\n",
      "1   5\n",
      "1   7\n",
      "1   8\n",
      "1   9\n"
     ]
    }
   ],
   "source": [
    "#Q1 d) i.\n",
    "import numpy as np\n",
    "x = np.array([1,2,3,4,5,1,2,1,1,1])\n",
    "y1 = np.bincount(x);\n",
    "maximum = max(y1);\n",
    "print(y1.argmax())\n",
    "m=[]\n",
    "\n",
    "for i in range(len(y1)):\n",
    "  if y1[i]==maximum:\n",
    "    m.append(i)\n",
    "\n",
    "    for i in range(len(x)):\n",
    "      for j in range(len(m)):\n",
    "        if x[i]==m[j]:\n",
    "          print(m[j],\" \",i)"
   ]
  },
  {
   "cell_type": "code",
   "execution_count": null,
   "id": "5b755ba2",
   "metadata": {},
   "outputs": [
    {
     "name": "stdout",
     "output_type": "stream",
     "text": [
      "1\n",
      "1   0\n",
      "1   1\n",
      "1   2\n",
      "1   0\n",
      "1   1\n",
      "1   2\n",
      "3   4\n",
      "3   8\n",
      "3   9\n"
     ]
    }
   ],
   "source": [
    "#Q1 d) ii.\n",
    "import numpy as np\n",
    "y = np.array([1, 1, 1, 2, 3, 4, 2, 4, 3, 3, ])\n",
    "y1 = np.bincount(y);\n",
    "maximum = max(y1);\n",
    "print(y1.argmax())\n",
    "m=[]\n",
    "\n",
    "for i in range(len(y1)):\n",
    "  if y1[i]==maximum:\n",
    "    m.append(i)\n",
    "\n",
    "    for i in range(len(y)):\n",
    "      for j in range(len(m)):\n",
    "        if y[i]==m[j]:\n",
    "          print(m[j],\" \",i)"
   ]
  },
  {
   "cell_type": "code",
   "execution_count": null,
   "id": "3278967a",
   "metadata": {},
   "outputs": [
    {
     "data": {
      "text/plain": [
       "45"
      ]
     },
     "execution_count": 6,
     "metadata": {},
     "output_type": "execute_result"
    }
   ],
   "source": [
    "#Q1 e) i.\n",
    "import numpy as np \n",
    "gfg = np.matrix('[4, 1, 9; 12, 3, 1; 4, 5, 6]')\n",
    "np.sum(gfg)\n"
   ]
  },
  {
   "cell_type": "code",
   "execution_count": null,
   "id": "0355f2fa",
   "metadata": {},
   "outputs": [
    {
     "data": {
      "text/plain": [
       "matrix([[14],\n",
       "        [16],\n",
       "        [15]])"
      ]
     },
     "execution_count": 7,
     "metadata": {},
     "output_type": "execute_result"
    }
   ],
   "source": [
    "#Q1 e) ii.\n",
    "import numpy as np \n",
    "gfg = np.matrix('[4, 1, 9; 12, 3, 1; 4, 5, 6]')\n",
    "np.sum(gfg, axis=1)"
   ]
  },
  {
   "cell_type": "code",
   "execution_count": null,
   "id": "12a7f292",
   "metadata": {},
   "outputs": [
    {
     "data": {
      "text/plain": [
       "matrix([[20,  9, 16]])"
      ]
     },
     "execution_count": 8,
     "metadata": {},
     "output_type": "execute_result"
    }
   ],
   "source": [
    "#Q1 e) iii.\n",
    "import numpy as np \n",
    "gfg = np.matrix('[4, 1, 9; 12, 3, 1; 4, 5, 6]')\n",
    "np.sum(gfg, axis=0)"
   ]
  },
  {
   "cell_type": "code",
   "execution_count": null,
   "id": "06bfdb56",
   "metadata": {},
   "outputs": [
    {
     "name": "stdout",
     "output_type": "stream",
     "text": [
      "176\n"
     ]
    }
   ],
   "source": [
    "#Q1 f) i.\n",
    "n_array = np.array([[55, 25, 15],[30, 44, 2],[11, 45, 77]])\n",
    "trace = np.trace(n_array)\n",
    "print(trace)"
   ]
  },
  {
   "cell_type": "code",
   "execution_count": null,
   "id": "326c9eb4",
   "metadata": {},
   "outputs": [
    {
     "name": "stdout",
     "output_type": "stream",
     "text": [
      "Eigen values of the given array:\n",
      " [98.16835147 28.097044   49.73460452]\n",
      "Eigen vectors of the given array:\n",
      " [[ 0.4574917   0.34637121 -0.15017693]\n",
      " [ 0.28447814 -0.72784061 -0.4852124 ]\n",
      " [ 0.84248058  0.59184038  0.8614034 ]]\n"
     ]
    }
   ],
   "source": [
    "#Q1 f) i. ii.\n",
    "import numpy as np\n",
    "n_array = np.array([[55, 25, 15],[30, 44, 2],[11, 45, 77]])\n",
    "w, v = np.linalg.eig(n_array)\n",
    "print(\"Eigen values of the given array:\\n\",w)\n",
    "print(\"Eigen vectors of the given array:\\n\",v)"
   ]
  },
  {
   "cell_type": "code",
   "execution_count": null,
   "id": "8f77a6cf",
   "metadata": {},
   "outputs": [
    {
     "name": "stdout",
     "output_type": "stream",
     "text": [
      "[[ 0.02404141 -0.00911212 -0.00444671]\n",
      " [-0.01667882  0.02966905  0.0024785 ]\n",
      " [ 0.00631287 -0.01603732  0.01217379]]\n"
     ]
    }
   ],
   "source": [
    "#Q1 f) iii.\n",
    "import numpy as np\n",
    "n_array = np.array([[55, 25, 15],[30, 44, 2],[11, 45, 77]])\n",
    "y = np.linalg.inv(n_array)\n",
    "print(y)"
   ]
  },
  {
   "cell_type": "code",
   "execution_count": null,
   "id": "f4d89c0e",
   "metadata": {},
   "outputs": [
    {
     "name": "stdout",
     "output_type": "stream",
     "text": [
      "137180.0000000001\n"
     ]
    }
   ],
   "source": [
    "#Q1 f) iv.\n",
    "import numpy as np\n",
    "n_array = np.array([[55, 25, 15],[30, 44, 2],[11, 45, 77]])\n",
    "y = np.linalg.det(n_array)\n",
    "print(y)"
   ]
  },
  {
   "cell_type": "code",
   "execution_count": null,
   "id": "c9167df0",
   "metadata": {},
   "outputs": [
    {
     "name": "stdout",
     "output_type": "stream",
     "text": [
      "res is: [[16 19]\n",
      " [26 31]]\n"
     ]
    },
    {
     "data": {
      "text/plain": [
       "array([[0.5, 0.5, 0.5, 0.5],\n",
       "       [0.5, 0.5, 0.5, 0.5],\n",
       "       [0.5, 0.5, 0.5, 0.5],\n",
       "       [0.5, 0.5, 0.5, 0.5]])"
      ]
     },
     "execution_count": 13,
     "metadata": {},
     "output_type": "execute_result"
    }
   ],
   "source": [
    "#Q1 g) i.\n",
    "import numpy as np\n",
    "p = [[1, 2], [2, 3]]\n",
    "q = [[4, 5], [6, 7]]\n",
    "res = np.dot(p,q)\n",
    "print(\"res is:\",res)\n",
    "np.cov(p,q)"
   ]
  },
  {
   "cell_type": "code",
   "execution_count": null,
   "id": "602c850b",
   "metadata": {},
   "outputs": [
    {
     "name": "stdout",
     "output_type": "stream",
     "text": [
      "res is: [[16 19  5]\n",
      " [26 31  8]\n",
      " [46 55 14]]\n"
     ]
    },
    {
     "data": {
      "text/plain": [
       "array([[  0.5,   0.5,   0.5,   0.5,   2.5,  -2.5],\n",
       "       [  0.5,   0.5,   0.5,   0.5,   2.5,  -2.5],\n",
       "       [  0.5,   0.5,   0.5,   0.5,   2.5,  -2.5],\n",
       "       [  0.5,   0.5,   0.5,   0.5,   2.5,  -2.5],\n",
       "       [  2.5,   2.5,   2.5,   2.5,  12.5, -12.5],\n",
       "       [ -2.5,  -2.5,  -2.5,  -2.5, -12.5,  12.5]])"
      ]
     },
     "execution_count": 14,
     "metadata": {},
     "output_type": "execute_result"
    }
   ],
   "source": [
    "#Q1 g) ii.\n",
    "import numpy as np\n",
    "p = [[1, 2], [2, 3], [4, 5]]\n",
    "q = [[4, 5, 1], [6, 7, 2]]\n",
    "res = np.dot(p,q)\n",
    "q=np.reshape(q,(3,2))\n",
    "print(\"res is:\",res)\n",
    "np.cov(p,q)"
   ]
  },
  {
   "cell_type": "code",
   "execution_count": null,
   "id": "4408ed27",
   "metadata": {},
   "outputs": [
    {
     "name": "stdout",
     "output_type": "stream",
     "text": [
      "inner product is  [[2 3 4]\n",
      " [3 2 9]]\n",
      "outer product is  [[ 2 10  0 10 20  6]\n",
      " [ 3 15  0 15 30  9]\n",
      " [ 4 20  0 20 40 12]\n",
      " [ 3 15  0 15 30  9]\n",
      " [ 2 10  0 10 20  6]\n",
      " [ 9 45  0 45 90 27]]\n",
      "cartesian product is [[-20   4   7]\n",
      " [-84  36  20]]\n"
     ]
    }
   ],
   "source": [
    "#Q1 h) \n",
    "import numpy as np\n",
    "x = np.array([[2, 3, 4], [3, 2, 9]])\n",
    "y = np.array([[1, 5, 0], [5, 10, 3]])\n",
    "a = np.inner(x,y)\n",
    "print(\"inner product is \",x)\n",
    "b = np.outer(x,y)\n",
    "print(\"outer product is \",b)\n",
    "c = np.cross(x,y)\n",
    "print(\"cartesian product is\",c)"
   ]
  },
  {
   "cell_type": "code",
   "execution_count": null,
   "id": "70395e94",
   "metadata": {},
   "outputs": [
    {
     "name": "stdout",
     "output_type": "stream",
     "text": [
      "[[1 2 3]\n",
      " [4 5 6]]\n"
     ]
    }
   ],
   "source": [
    "#Q2 a) i. \n",
    "import numpy as np\n",
    "array = np.array([[1, -2, 3],[-4, 5, -6]])\n",
    "res = np.absolute(array)\n",
    "print(res)"
   ]
  },
  {
   "cell_type": "code",
   "execution_count": null,
   "id": "64aabf2a",
   "metadata": {},
   "outputs": [],
   "source": [
    "#Q2 a) ii.\n",
    "import numpy as np\n",
    "arr = np.array([[1, -2, 3],[-4, 5, -6]])"
   ]
  },
  {
   "cell_type": "code",
   "execution_count": null,
   "id": "8c26d2b8",
   "metadata": {},
   "outputs": [
    {
     "name": "stdout",
     "output_type": "stream",
     "text": [
      "25th Percentile of arr  -3.5\n",
      "50th Percentile of arr  -0.5\n",
      "75th Percentile of arr  2.5\n"
     ]
    }
   ],
   "source": [
    "# Percentile of the flattened array\n",
    "print(\"25th Percentile of arr \",np.percentile(arr, 25))\n",
    "print(\"50th Percentile of arr \",np.percentile(arr, 50))\n",
    "print(\"75th Percentile of arr \",np.percentile(arr, 75))"
   ]
  },
  {
   "cell_type": "code",
   "execution_count": null,
   "id": "b6d684b9",
   "metadata": {},
   "outputs": [
    {
     "name": "stdout",
     "output_type": "stream",
     "text": [
      "25th Percentile of arr  [-2.75 -0.25 -3.75]\n",
      "50th Percentile of arr  [-1.5  1.5 -1.5]\n",
      "75th Percentile of arr  [-0.25  3.25  0.75]\n"
     ]
    }
   ],
   "source": [
    "# Percentile of each column\n",
    "print(\"25th Percentile of arr \",np.percentile(arr, 25, axis =0))\n",
    "print(\"50th Percentile of arr \",np.percentile(arr, 50, axis =0))\n",
    "print(\"75th Percentile of arr \",np.percentile(arr, 75, axis =0))"
   ]
  },
  {
   "cell_type": "code",
   "execution_count": null,
   "id": "782267e6",
   "metadata": {},
   "outputs": [
    {
     "name": "stdout",
     "output_type": "stream",
     "text": [
      "25th Percentile of arr  [-0.5 -5. ]\n",
      "50th Percentile of arr  [ 1. -4.]\n",
      "75th Percentile of arr  [2.  0.5]\n"
     ]
    }
   ],
   "source": [
    "\n",
    "# Percentile of each row\n",
    "print(\"25th Percentile of arr \",np.percentile(arr, 25, axis =1))\n",
    "print(\"50th Percentile of arr \",np.percentile(arr, 50, axis =1))\n",
    "print(\"75th Percentile of arr \",np.percentile(arr, 75, axis =1))"
   ]
  },
  {
   "cell_type": "code",
   "execution_count": null,
   "id": "ca5c3e04",
   "metadata": {},
   "outputs": [],
   "source": [
    "#Q2 a) iii.\n",
    "import numpy as np\n",
    "arr = np.array([[1, -2, 3],[-4, 5, -6]])"
   ]
  },
  {
   "cell_type": "code",
   "execution_count": null,
   "id": "b337ed41",
   "metadata": {},
   "outputs": [
    {
     "name": "stdout",
     "output_type": "stream",
     "text": [
      "25th mean of arr  -0.5\n",
      "50th median of arr  -0.5\n",
      "75th std of arr  3.8622100754188224\n"
     ]
    }
   ],
   "source": [
    "# Percentile of the flattened array\n",
    "print(\"25th mean of arr \",np.mean(arr))\n",
    "print(\"50th median of arr \",np.median(arr))\n",
    "print(\"75th std of arr \",np.std(arr))\n",
    "    "
   ]
  },
  {
   "cell_type": "code",
   "execution_count": null,
   "id": "83a23882",
   "metadata": {},
   "outputs": [
    {
     "name": "stdout",
     "output_type": "stream",
     "text": [
      "25th mean of arr  [-1.5  1.5 -1.5]\n",
      "50th median of arr  [-1.5  1.5 -1.5]\n",
      "75th std of arr  [2.5 3.5 4.5]\n"
     ]
    }
   ],
   "source": [
    "# Percentile of each column\n",
    "print(\"25th mean of arr \",np.mean(arr, axis =0))\n",
    "print(\"50th median of arr \",np.median(arr, axis =0))\n",
    "print(\"75th std of arr \",np.std(arr, axis =0))"
   ]
  },
  {
   "cell_type": "code",
   "execution_count": null,
   "id": "4ce98a82",
   "metadata": {},
   "outputs": [
    {
     "name": "stdout",
     "output_type": "stream",
     "text": [
      "25th mean of arr  [ 0.66666667 -1.66666667]\n",
      "50th median of arr  [ 1. -4.]\n",
      "75th std of arr  [2.05480467 4.78423336]\n"
     ]
    }
   ],
   "source": [
    "# Percentile of each row\n",
    "print(\"25th mean of arr \",np.mean(arr, axis =1))\n",
    "print(\"50th median of arr \",np.median(arr, axis =1))\n",
    "print(\"75th std of arr \",np.std(arr, axis =1))"
   ]
  },
  {
   "cell_type": "code",
   "execution_count": null,
   "id": "859cbaea",
   "metadata": {},
   "outputs": [
    {
     "name": "stdout",
     "output_type": "stream",
     "text": [
      "floor:  [-2. -2. -1.  0.  1.  1.  3.]\n",
      "ceil:   [-1. -1. -0.  1.  2.  2.  3.]\n",
      "trunc:  [-1. -1. -0.  0.  1.  1.  3.]\n",
      "round:  [-2. -2. -0.  0.  2.  2.  3.]\n"
     ]
    }
   ],
   "source": [
    "#Q2 b)\n",
    "import numpy as np\n",
    "x = np.array([-1.8, -1.6, -0.5, 0.5,1.6, 1.8, 3.0])\n",
    "r1 = np.floor(x)\n",
    "r2 = np.ceil(x)\n",
    "r3 = np.trunc(x)\n",
    "r4 = np.around(x)\n",
    "print(\"floor: \",r1)\n",
    "print(\"ceil:  \",r2)\n",
    "print(\"trunc: \",r3)\n",
    "print(\"round: \",r4)"
   ]
  },
  {
   "cell_type": "code",
   "execution_count": null,
   "id": "d9bcfb36",
   "metadata": {},
   "outputs": [
    {
     "name": "stdout",
     "output_type": "stream",
     "text": [
      "[ 10  16  16  52  54  62 453]\n"
     ]
    }
   ],
   "source": [
    "#Q3 a) i.\n",
    "import numpy as np\n",
    "array = np.array([10, 52, 62, 16, 16, 54, 453])\n",
    "print(np.sort(array))"
   ]
  },
  {
   "cell_type": "code",
   "execution_count": null,
   "id": "a36b0b2e",
   "metadata": {},
   "outputs": [
    {
     "name": "stdout",
     "output_type": "stream",
     "text": [
      "[0 3 4 1 5 2 6]\n"
     ]
    }
   ],
   "source": [
    "#Q3 a) ii.\n",
    "import numpy as np\n",
    "array = np.array([10, 52, 62, 16, 16, 54, 453])\n",
    "indices = np.argsort(array)\n",
    "print(indices)"
   ]
  },
  {
   "cell_type": "code",
   "execution_count": null,
   "id": "e1ec5427",
   "metadata": {},
   "outputs": [
    {
     "name": "stdout",
     "output_type": "stream",
     "text": [
      "4 smallest elements of the array\n",
      "[10 16 16 52]\n"
     ]
    }
   ],
   "source": [
    "#Q3 a) iii.\n",
    "import numpy as np\n",
    "array = np.array([10, 52, 62, 16, 16, 54, 453])\n",
    "array1 = np.sort(array)\n",
    "print(4, \"smallest elements of the array\")\n",
    "print(array1[:4])"
   ]
  },
  {
   "cell_type": "code",
   "execution_count": null,
   "id": "01218580",
   "metadata": {},
   "outputs": [
    {
     "name": "stdout",
     "output_type": "stream",
     "text": [
      "5 largest elements of the array\n",
      "[ 16  52  54  62 453]\n"
     ]
    }
   ],
   "source": [
    "#Q3 a) iv.\n",
    "import numpy as np\n",
    "array = np.array([10, 52, 62, 16, 16, 54, 453])\n",
    "array1 = np.sort(array)\n",
    "print(5, \"largest elements of the array\")\n",
    "print(array1[-5:])"
   ]
  },
  {
   "cell_type": "code",
   "execution_count": null,
   "id": "5d016701",
   "metadata": {},
   "outputs": [
    {
     "name": "stdout",
     "output_type": "stream",
     "text": [
      "1.0 is an integer\n",
      "3.0 is an integer\n",
      "4.0 is an integer\n"
     ]
    }
   ],
   "source": [
    "#Q3 b) i.\n",
    "import numpy as np\n",
    "\n",
    "def isInt(num):\n",
    "    return np.equal(np.mod(num, 1), 0)\n",
    "\n",
    "arr = np.array([1.0, 2.3, 3, 4.0, 4.001])\n",
    "\n",
    "for num in arr:\n",
    "    if isInt(num):\n",
    "        print(num, \"is an integer\")"
   ]
  },
  {
   "cell_type": "code",
   "execution_count": null,
   "id": "114557ac",
   "metadata": {},
   "outputs": [
    {
     "name": "stdout",
     "output_type": "stream",
     "text": [
      "2.3 is an float\n",
      "4.001 is an float\n"
     ]
    }
   ],
   "source": [
    "#Q3 b) ii.\n",
    "import numpy as np\n",
    "\n",
    "def isfloat(num):\n",
    "    return np.not_equal(np.mod(num, 1), 0)\n",
    "\n",
    "arr = np.array([1.0, 2.3, 3, 4.0, 4.001])\n",
    "\n",
    "for num in arr:\n",
    "    if isfloat(num):\n",
    "        print(num, \"is an float\")"
   ]
  },
  {
   "cell_type": "code",
   "execution_count": 12,
   "id": "f845107c",
   "metadata": {},
   "outputs": [
    {
     "name": "stdout",
     "output_type": "stream",
     "text": [
      "JPEG\n",
      "(1024, 1024)\n",
      "RGB\n",
      "[[[255 255 255]\n",
      "  [255 255 255]\n",
      "  [255 255 255]\n",
      "  ...\n",
      "  [255 255 255]\n",
      "  [255 255 255]\n",
      "  [255 255 255]]\n",
      "\n",
      " [[255 255 255]\n",
      "  [255 255 255]\n",
      "  [255 255 255]\n",
      "  ...\n",
      "  [255 255 255]\n",
      "  [255 255 255]\n",
      "  [255 255 255]]\n",
      "\n",
      " [[255 255 255]\n",
      "  [255 255 255]\n",
      "  [255 255 255]\n",
      "  ...\n",
      "  [255 255 255]\n",
      "  [255 255 255]\n",
      "  [255 255 255]]\n",
      "\n",
      " ...\n",
      "\n",
      " [[255 255 255]\n",
      "  [255 255 255]\n",
      "  [255 255 255]\n",
      "  ...\n",
      "  [255 255 255]\n",
      "  [255 255 255]\n",
      "  [255 255 255]]\n",
      "\n",
      " [[255 255 255]\n",
      "  [255 255 255]\n",
      "  [255 255 255]\n",
      "  ...\n",
      "  [255 255 255]\n",
      "  [255 255 255]\n",
      "  [255 255 255]]\n",
      "\n",
      " [[255 255 255]\n",
      "  [255 255 255]\n",
      "  [255 255 255]\n",
      "  ...\n",
      "  [255 255 255]\n",
      "  [255 255 255]\n",
      "  [255 255 255]]]\n",
      "[255 255 255 ... 255 255 255]\n",
      "3145728\n"
     ]
    }
   ],
   "source": [
    "\n",
    "from PIL import Image\n",
    "from numpy import asarray\n",
    "\n",
    "image = Image.open('/Users/chayansinha/Library/Mobile Documents/com~apple~CloudDocs/CLICK ME/IMG_2123.jpg')\n",
    "numpydata = asarray(image)\n",
    "  \n",
    "# summarize some details about the image\n",
    "print(image.format)\n",
    "print(image.size)\n",
    "print(image.mode)\n",
    "print(numpydata)\n",
    "A=numpydata.flatten('F')\n",
    "print(numpydata.flatten('F'))\n",
    "print(A.size)\n",
    "file = open(\"g:\\\\file1.txt\", \"w+\")\n",
    "content = str(numpydata)\n",
    "file.write(content)\n",
    "file.close()\n"
   ]
  },
  {
   "cell_type": "code",
   "execution_count": null,
   "id": "f46fea41",
   "metadata": {},
   "outputs": [],
   "source": [
    "\n"
   ]
  },
  {
   "cell_type": "code",
   "execution_count": null,
   "id": "605063bd",
   "metadata": {},
   "outputs": [],
   "source": [
    "\n"
   ]
  },
  {
   "cell_type": "code",
   "execution_count": null,
   "id": "249b987c",
   "metadata": {},
   "outputs": [],
   "source": []
  }
 ],
 "metadata": {
  "kernelspec": {
   "display_name": "Python 3 (ipykernel)",
   "language": "python",
   "name": "python3"
  },
  "language_info": {
   "codemirror_mode": {
    "name": "ipython",
    "version": 3
   },
   "file_extension": ".py",
   "mimetype": "text/x-python",
   "name": "python",
   "nbconvert_exporter": "python",
   "pygments_lexer": "ipython3",
   "version": "3.9.12"
  },
  "vscode": {
   "interpreter": {
    "hash": "0df69419cb3dfe2c1131a1a98563070304954e22da6de14ffa257bf9aa154d96"
   }
  }
 },
 "nbformat": 4,
 "nbformat_minor": 5
}
